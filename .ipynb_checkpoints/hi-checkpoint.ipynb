{
 "cells": [
  {
   "cell_type": "code",
   "execution_count": null,
   "id": "937b3cf3",
   "metadata": {},
   "outputs": [],
   "source": [
    "import torch\n",
    "import matplotlib.pyplot as plt\n",
    "import numpy as np\n",
    "import pickle\n",
    "from PIL import Image\n",
    "import random\n",
    "from torchvision.transforms import ToTensor\n",
    "import torchvision.transforms as transforms\n",
    "\n",
    "\n",
    "class Dataset(torch.utils.data.Dataset):\n",
    "    \n",
    "    def __init__(self, annotations_frame, path_to_slides,  pseudo_epoch_length=1000,crop_size=(128,128), transformations= None):\n",
    "        super().__init__()\n",
    "        self.annotations_frame = annotations_frame\n",
    "        self.path_to_slides = path_to_slides\n",
    "        self.crop_size = crop_size\n",
    "        self.pseudo_epoch_length = pseudo_epoch_length\n",
    "        self.transformations = transformations\n",
    "        self.df = pickle.load(open(self.annotations_frame, 'rb'))\n",
    "        self.images = {}\n",
    "        self.initialize()\n",
    "        \n",
    "    def initialize(self):\n",
    "        for filename in self.df['filename'].unique():\n",
    "            img_path = f'{self.path_to_slides}images/{filename}'\n",
    "            img = Image.open(img_path)\n",
    "            self.images[filename] = img\n",
    "            \n",
    "    def __getitem__(self):\n",
    "        random_choice =random.choice(self.df['filename'].unique())\n",
    "        img_w, img_h,  = self.images[random_choice].size\n",
    "        min_x= random.randint(0,img_w-self.crop_size[0])    #point where crop is made\n",
    "        min_y= random.randint(0,img_h-self.crop_size[1])    #point where crop is made\n",
    "        max_x=min_x+self.crop_size[0]\n",
    "        max_y=min_y+self.crop_size[1]        \n",
    "        random_patch = self.images[random_choice].crop((min_x,min_y,max_x,max_y))\n",
    "        x= self.df.loc[(self.df['filename']==random_choice) & (self.df['max_x'] < max_x) & (self.df['min_x'] > min_x)\n",
    "                       & (self.df['max_y'] < max_y) & (self.df['min_y'] > min_y)] \n",
    "        #CHOOSE from annotation frame the correct file and then the cells that are within the parameters\n",
    "        for i, row in x.iterrows():\n",
    "            xmin, ymin, xmax, ymax,label = row[['min_x', 'min_y', 'max_x', 'max_y','label']].astype(int)\n",
    "            rect = plt.Rectangle((xmin - min_x , ymin - min_y ), xmax - xmin, ymax - ymin, linewidth=2, edgecolor='g', facecolor='none')\n",
    "                                     #to normalize it (put the starting point on the image)\n",
    "            ax = plt.gca()\n",
    "            ax.add_patch(rect)\n",
    "            ax.text(xmin-min_x, ymin-min_y, label , fontsize=12, color='b')\n",
    "            \n",
    "        return ax\n",
    "        \n",
    "            \n",
    "            \n",
    "        #plt.imshow(random_patch)\n",
    "        #h,w = random_image[:2]\n",
    "        #y = int(np.clip(np.random.normal(h/2.,h/5.),0,h-1))\n",
    "        #x = int(np.clip(np.random.normal(w/2.,w/5.),0,w-1))\n",
    "        #point = (x,y)\n",
    "    \n",
    "\n"
   ]
  },
  {
   "cell_type": "code",
   "execution_count": null,
   "id": "detailed-constitution",
   "metadata": {},
   "outputs": [],
   "source": [
    "annotations_frame = \"annotation_frame.p\"\n",
    "path_to_slides = ''\n",
    "mein_dataset = Dataset(annotations_frame, path_to_slides)\n",
    "target_count = mein_dataset.__getitem__()\n",
    "plt.show(target_count)"
   ]
  },
  {
   "cell_type": "code",
   "execution_count": 3,
   "id": "5abe0171",
   "metadata": {},
   "outputs": [
    {
     "ename": "NameError",
     "evalue": "name 'pseudo_epoch_length' is not defined",
     "output_type": "error",
     "traceback": [
      "\u001b[1;31m---------------------------------------------------------------------------\u001b[0m",
      "\u001b[1;31mNameError\u001b[0m                                 Traceback (most recent call last)",
      "\u001b[1;32m<ipython-input-3-26ae0add598b>\u001b[0m in \u001b[0;36m<module>\u001b[1;34m\u001b[0m\n\u001b[1;32m----> 1\u001b[1;33m \u001b[0mnumber\u001b[0m \u001b[1;33m=\u001b[0m \u001b[0mrandom\u001b[0m\u001b[1;33m.\u001b[0m\u001b[0mrandint\u001b[0m\u001b[1;33m(\u001b[0m\u001b[1;36m0\u001b[0m\u001b[1;33m,\u001b[0m \u001b[0mpseudo_epoch_length\u001b[0m \u001b[1;33m)\u001b[0m\u001b[1;33m\u001b[0m\u001b[1;33m\u001b[0m\u001b[0m\n\u001b[0m\u001b[0;32m      2\u001b[0m \u001b[0mplt\u001b[0m\u001b[1;33m.\u001b[0m\u001b[0mimshow\u001b[0m\u001b[1;33m(\u001b[0m\u001b[0mbox\u001b[0m\u001b[1;33m[\u001b[0m\u001b[1;34mf'patch_{number}'\u001b[0m\u001b[1;33m]\u001b[0m\u001b[1;33m[\u001b[0m\u001b[1;34m'img'\u001b[0m\u001b[1;33m]\u001b[0m\u001b[1;33m.\u001b[0m\u001b[0mpermute\u001b[0m\u001b[1;33m(\u001b[0m\u001b[1;36m1\u001b[0m\u001b[1;33m,\u001b[0m\u001b[1;36m2\u001b[0m\u001b[1;33m,\u001b[0m\u001b[1;36m0\u001b[0m\u001b[1;33m)\u001b[0m\u001b[1;33m)\u001b[0m\u001b[1;33m\u001b[0m\u001b[1;33m\u001b[0m\u001b[0m\n",
      "\u001b[1;31mNameError\u001b[0m: name 'pseudo_epoch_length' is not defined"
     ]
    }
   ],
   "source": [
    "number = random.randint(0, pseudo_epoch_length )\n",
    "plt.imshow(box[f'patch_{number}']['img'].permute(1,2,0))"
   ]
  },
  {
   "cell_type": "code",
   "execution_count": null,
   "id": "63749db7",
   "metadata": {},
   "outputs": [],
   "source": [
    "box = {}\n",
    "switcher = True\n",
    "i=0\n",
    "annotations_frame = \"annotation_frame.p\"\n",
    "path_to_slides = ''\n",
    "pseudo_epoch_length = 1000\n",
    "mein_dataset = Dataset(annotations_frame, path_to_slides, pseudo_epoch_length=2, transformations = ToTensor())\n",
    "while switcher == True:\n",
    "    switcher = mein_dataset.__len__()\n",
    "    image_count, target_count = mein_dataset.__getitem__(i)\n",
    "    box[f'patch_{i}'] = target_count\n",
    "    i += 1\n",
    "print(box)"
   ]
  },
  {
   "cell_type": "code",
   "execution_count": null,
   "id": "varying-milan",
   "metadata": {},
   "outputs": [],
   "source": [
    "\n",
    "        \n",
    "        \n",
    "        \n",
    "        \n",
    "    def __getitem__(self, index):\n",
    "        patch_coords = self.df.sample(1)\n",
    "        filename = patch_coords['filename'].values[0]\n",
    "        max_x = patch_coords['max_x'].values[0]\n",
    "        max_y = patch_coords['max_y'].values[0]\n",
    "        min_x = patch_coords['min_x'].values[0]\n",
    "        min_y = patch_coords['min_y'].values[0]\n",
    "        label = patch_coords['label'].values[0]\n",
    "        img = self.images[filename]\n",
    "        cell = img.crop((min_x, min_y, max_x, max_y))\n",
    "        target = {\n",
    "            'name_of_patch': f'patch_{index}',\n",
    "            'filename': filename,\n",
    "            'max_x': max_x,\n",
    "            'max_y': max_y,\n",
    "            'min_x': min_x,\n",
    "            'min_y': min_y,\n",
    "            'label': label,\n",
    "            'img': self.transformations(cell)\n",
    "        }\n",
    "        self.pseudo_epoch_length -= 1\n",
    "\n",
    "        return patch , target\n",
    "    \n",
    "    def __len__(self):\n",
    "        if self.pseudo_epoch_length == 0:\n",
    "            return False\n",
    "        else:\n",
    "            return Tru"
   ]
  }
 ],
 "metadata": {
  "kernelspec": {
   "display_name": "Python 3",
   "language": "python",
   "name": "python3"
  },
  "language_info": {
   "codemirror_mode": {
    "name": "ipython",
    "version": 3
   },
   "file_extension": ".py",
   "mimetype": "text/x-python",
   "name": "python",
   "nbconvert_exporter": "python",
   "pygments_lexer": "ipython3",
   "version": "3.9.0"
  }
 },
 "nbformat": 4,
 "nbformat_minor": 5
}
